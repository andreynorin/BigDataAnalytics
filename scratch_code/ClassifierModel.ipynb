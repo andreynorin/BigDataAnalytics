{
 "cells": [
  {
   "cell_type": "code",
   "execution_count": 67,
   "metadata": {},
   "outputs": [
    {
     "name": "stdout",
     "output_type": "stream",
     "text": [
      "E:\\BigDataAnalytics\\Classifier\\Data\n"
     ]
    }
   ],
   "source": [
    "# set present working directory\n",
    "%cd \"E:\\BigDataAnalytics\\Classifier\\Data\""
   ]
  },
  {
   "cell_type": "code",
   "execution_count": 68,
   "metadata": {},
   "outputs": [],
   "source": [
    "import numpy as np\n",
    "import pandas as pd\n",
    "import json\n",
    "import matplotlib.pyplot as plt\n",
    "from sklearn.model_selection import train_test_split\n",
    "from sklearn.svm import SVC\n",
    "from sklearn.linear_model import LogisticRegression\n",
    "from sklearn.ensemble import RandomForestClassifier\n",
    "from sklearn.metrics import accuracy_score\n",
    "import spacy_sentence_bert"
   ]
  },
  {
   "cell_type": "code",
   "execution_count": 79,
   "metadata": {},
   "outputs": [],
   "source": [
    "# set filenames\n",
    "\n",
    "# input JSON file name\n",
    "fileName            = 'bhbkh2jowm4ztp4bckxxuwsuje.json'\n",
    "\n",
    "fileNameNoExt       = fileName.split('.')[0]\n",
    "parquetRawFileName  = fileNameNoExt +'_raw.parkquet'\n",
    "parquetVecFileName  = fileNameNoExt +'_vectorized.parkquet'\n"
   ]
  },
  {
   "cell_type": "code",
   "execution_count": 80,
   "metadata": {},
   "outputs": [
    {
     "name": "stdout",
     "output_type": "stream",
     "text": [
      "topic    0\n",
      "title    0\n",
      "dtype: int64\n",
      "           topic                                              title\n",
      "0  ENTERTAINMENT  Exclusive! Paras Chhabra and Mahira Sharma rev...\n",
      "1  ENTERTAINMENT  Mandalorian spin-off The Book of Boba Fett wil...\n",
      "2  ENTERTAINMENT  Eager fans gush over new 'Twilight' book, 'Mid...\n",
      "3       BUSINESS      Golf carts allowed on city streets in Gautier\n",
      "4       BUSINESS  Dealers' threats to people living among 'party...\n"
     ]
    }
   ],
   "source": [
    "data = []\n",
    "with open(fileName, 'r', encoding=\"utf8\") as f:\n",
    "  data = f.readlines()\n",
    "  \n",
    "data = [json.loads(item)['Item'] for item in data]\n",
    "\n",
    "#print(data[:2])\n",
    "\n",
    "# process JSON data\n",
    "\n",
    "for i in range(len(data)):\n",
    "  for key in data[i].keys():\n",
    "    data[i][key] = data[i][key][\"S\"]\n",
    "    \n",
    "#print(data[:2])\n",
    "\n",
    "df = pd.DataFrame(data)\n",
    "df = df[['topic','title']]\n",
    "\n",
    "\n",
    "# clean up bad rows\n",
    "\n",
    "print(df.isnull().sum())\n",
    "\n",
    "## OUTPUT\n",
    "## topic    0\n",
    "## title    1\n",
    "## dtype: int64\n",
    "\n",
    "df = df.dropna()\n",
    "\n",
    "print(df.head())"
   ]
  },
  {
   "cell_type": "code",
   "execution_count": 81,
   "metadata": {},
   "outputs": [
    {
     "name": "stdout",
     "output_type": "stream",
     "text": [
      "['ENTERTAINMENT' 'BUSINESS' 'NATION' 'SPORTS' 'WORLD' 'TECHNOLOGY'\n",
      " 'HEALTH' 'SCIENCE']\n"
     ]
    }
   ],
   "source": [
    "print(df.topic.unique())\n",
    "\n",
    "## OUTPUT\n",
    "## array(['ENTERTAINMENT', 'BUSINESS', 'NATION', 'SPORTS', 'WORLD',\n",
    "##     'TECHNOLOGY', 'HEALTH', 'SCIENCE'], dtype=object)"
   ]
  },
  {
   "cell_type": "code",
   "execution_count": 82,
   "metadata": {},
   "outputs": [],
   "source": [
    "# save raw dataframe into parquet file\n",
    "df.to_parquet(parquetRawFileName)"
   ]
  },
  {
   "cell_type": "code",
   "execution_count": 61,
   "metadata": {},
   "outputs": [],
   "source": [
    "# keep topics the same, no need to change them\n",
    "#print(df.topic.unique())\n",
    "#data = df[(df['topic'] != 'NATION') & (df['topic'] != 'WORLD')]\n",
    "\n",
    "#print(data.topic.unique())"
   ]
  },
  {
   "cell_type": "code",
   "execution_count": 77,
   "metadata": {},
   "outputs": [
    {
     "name": "stdout",
     "output_type": "stream",
     "text": [
      "topic    0\n",
      "title    0\n",
      "dtype: int64\n"
     ]
    }
   ],
   "source": [
    "# clean up bad row\n",
    "\n",
    "print(df.isnull().sum())\n",
    "\n",
    "## OUTPUT\n",
    "## topic    0\n",
    "## title    1\n",
    "## dtype: int64\n",
    "\n",
    "df = df.dropna()"
   ]
  },
  {
   "cell_type": "code",
   "execution_count": 83,
   "metadata": {},
   "outputs": [
    {
     "data": {
      "text/plain": [
       "<AxesSubplot: >"
      ]
     },
     "execution_count": 83,
     "metadata": {},
     "output_type": "execute_result"
    },
    {
     "data": {
      "image/png": "[encoded data removed]",
      "text/plain": [
       "<Figure size 576x360 with 1 Axes>"
      ]
     },
     "metadata": {
      "needs_background": "light"
     },
     "output_type": "display_data"
    }
   ],
   "source": [
    "counts = df['topic'].value_counts()\n",
    "counts.plot(kind='bar', legend=False, grid=True, figsize=(8, 5))"
   ]
  },
  {
   "cell_type": "code",
   "execution_count": 84,
   "metadata": {},
   "outputs": [
    {
     "data": {
      "text/plain": [
       "<AxesSubplot: >"
      ]
     },
     "execution_count": 84,
     "metadata": {},
     "output_type": "execute_result"
    },
    {
     "data": {
      "image/png": "[encoded data removed]",
      "text/plain": [
       "<Figure size 432x288 with 1 Axes>"
      ]
     },
     "metadata": {
      "needs_background": "light"
     },
     "output_type": "display_data"
    }
   ],
   "source": [
    "lens = df.title.str.len()\n",
    "lens.hist(bins = np.arange(0,200,5))"
   ]
  },
  {
   "cell_type": "code",
   "execution_count": 85,
   "metadata": {},
   "outputs": [],
   "source": [
    "# no sure what this does?\n",
    "\n",
    "#for topic in df.topic.unique():\n",
    "#  temp_df = df[df['topic'] == topic][:5000]\n",
    "#  df = pd.concat([df, temp_df])"
   ]
  },
  {
   "cell_type": "code",
   "execution_count": 88,
   "metadata": {},
   "outputs": [
    {
     "data": {
      "text/plain": [
       "197983.0"
      ]
     },
     "execution_count": 88,
     "metadata": {},
     "output_type": "execute_result"
    }
   ],
   "source": [
    "len(df.index) "
   ]
  },
  {
   "cell_type": "code",
   "execution_count": 86,
   "metadata": {},
   "outputs": [],
   "source": [
    "# load one of the models listed at https://github.com/MartinoMensio/spacy-sentence-bert/\n",
    "nlp = spacy_sentence_bert.load_model('en_stsb_distilbert_base')"
   ]
  },
  {
   "cell_type": "markdown",
   "metadata": {},
   "source": [
    "### Vectorize Title Text - this step makes it possible to run classification algorithms"
   ]
  },
  {
   "cell_type": "code",
   "execution_count": null,
   "metadata": {},
   "outputs": [],
   "source": [
    "# this operationg took over 25 min to run\n",
    "#df['vector'] = df['title'].apply(lambda x: nlp(x).vector)\n",
    "\n",
    "stub_df = data[:30000]\n",
    "\n",
    "stub_df['vector'] = stub_df['title'].apply(lambda x: nlp(x).vector)\n",
    "\n",
    "# execution times:  \n",
    "# 100     rows - 3.6 sec\n",
    "# 1000    rows - 26.9 sec\n",
    "# 10,000  rows - 5m 19 sec\n",
    "# 30,000  rows - approx 15 min\n",
    "display(stub_df)\n",
    "\n",
    "# export stub to pickle file\n",
    "stub_df.to_pickle(path='./stub_df2.pkl')"
   ]
  },
  {
   "cell_type": "code",
   "execution_count": null,
   "metadata": {},
   "outputs": [],
   "source": [
    "stub_df = pd.read_pickle('./stub_df2.pkl')"
   ]
  },
  {
   "cell_type": "code",
   "execution_count": null,
   "metadata": {},
   "outputs": [],
   "source": [
    "#from sklearn.model_selection import train_test_split\n",
    "\n",
    "X_train, X_test, y_train, y_test = train_test_split(stub_df['vector'].tolist(), stub_df['topic'].tolist(), test_size=0.33, random_state=42)"
   ]
  },
  {
   "cell_type": "code",
   "execution_count": null,
   "metadata": {},
   "outputs": [],
   "source": [
    "stub_df.topic.unique()"
   ]
  },
  {
   "cell_type": "code",
   "execution_count": null,
   "metadata": {},
   "outputs": [],
   "source": [
    "clf = SVC(gamma='auto')\n",
    "clf.fit(X_train, y_train)\n",
    "y_pred = clf.predict(X_test)\n",
    "print(accuracy_score(y_test, y_pred))\n",
    "\n",
    "## OUTPUT\n",
    "## 0.8392929292929293"
   ]
  },
  {
   "cell_type": "markdown",
   "metadata": {},
   "source": [
    "# Test Classifier"
   ]
  },
  {
   "cell_type": "code",
   "execution_count": null,
   "metadata": {},
   "outputs": [],
   "source": [
    "headlines = [\"Scientists Figured Out How Much Exercise You Need to 'Offset' a Day of Sitting\",\n",
    " \"Marlee Matlin On Her Career And 'CODA' — The Actor's Side – Deadline\",\n",
    " \"Increasing mental health issues a symptom of Victoria's lockdown\",\n",
    " 'Philippines polio outbreak over: UN',\n",
    " \"Sophie, Countess of Wessex opens up about menopause: ‘It's like somebody's just gone and taken your brain'\",\n",
    " 'Bill Gates tells why he prefers Android mobile over iPhone',\n",
    " \"'A weight has been lifted' Edinburgh pubs and restaurants react to hospitality rules easing\",\n",
    " \"Mysterious Signal Flashing From Galaxy's Core Baffle Scientists; Where Is There Source of This Radio Waves?\",\n",
    " \"'Tears in their eyes': World erupts over All Blacks' beautiful Maradona tribute\",\n",
    " \"'Packed in like sardines'\"]\n",
    "\n",
    "topics = ['SCIENCE',  'ENTERTAINMENT',  'HEALTH',\n",
    " 'HEALTH',  'ENTERTAINMENT',  'TECHNOLOGY',  'BUSINESS',\n",
    " 'SCIENCE',  'SPORTS',  'ENTERTAINMENT']"
   ]
  },
  {
   "cell_type": "code",
   "execution_count": null,
   "metadata": {},
   "outputs": [],
   "source": [
    "for headline, topic in zip(headlines, topics):\n",
    "  print(headline)\n",
    "  print(f\"True Label: {topic}, Predicted Label: {clf.predict(nlp(headline).vector.reshape(1, -1))[0]} \\n\")"
   ]
  },
  {
   "cell_type": "code",
   "execution_count": null,
   "metadata": {},
   "outputs": [],
   "source": [
    "stub_df.to_pickle(path='./stub_df.pkl')"
   ]
  },
  {
   "cell_type": "code",
   "execution_count": null,
   "metadata": {},
   "outputs": [],
   "source": [
    "stub2 = pd.read_pickle('./stub_df.pkl')"
   ]
  },
  {
   "cell_type": "code",
   "execution_count": null,
   "metadata": {},
   "outputs": [],
   "source": []
  },
  {
   "cell_type": "code",
   "execution_count": null,
   "metadata": {},
   "outputs": [],
   "source": []
  }
 ],
 "metadata": {
  "kernelspec": {
   "display_name": "Python 3.10.4 64-bit",
   "language": "python",
   "name": "python3"
  },
  "language_info": {
   "codemirror_mode": {
    "name": "ipython",
    "version": 3
   },
   "file_extension": ".py",
   "mimetype": "text/x-python",
   "name": "python",
   "nbconvert_exporter": "python",
   "pygments_lexer": "ipython3",
   "version": "3.10.4"
  },
  "orig_nbformat": 4,
  "vscode": {
   "interpreter": {
    "hash": "3df0aa79156feb5fb6258c1c6cd6690224a10fc2ae8a5ac50eb8b2d8a72ebe0c"
   }
  }
 },
 "nbformat": 4,
 "nbformat_minor": 2
}
